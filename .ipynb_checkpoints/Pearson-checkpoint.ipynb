{
 "cells": [
  {
   "cell_type": "code",
   "execution_count": 7,
   "id": "9fb5a5ba",
   "metadata": {},
   "outputs": [
    {
     "name": "stdout",
     "output_type": "stream",
     "text": [
      "指定的欄位不存在於數據集中。請檢查欄位名稱。\n"
     ]
    }
   ],
   "source": [
    "import pandas as pd\n",
    "from scipy.stats import pearsonr\n",
    "\n",
    "\n",
    "df = pd.read_csv('C:/Users/User/Documents/RL_/Data/Stocks/SPY_WTI.txt')\n",
    "\n",
    "# 檢查並處理 NaN 和 inf 值\n",
    "# 移除含有 NaN 的行\n",
    "df.dropna(inplace=True)\n",
    "\n",
    "df.replace([float('inf'), float('-inf')], pd.NA, inplace=True)\n",
    "df.dropna(inplace=True)\n",
    "\n",
    "# 確保 'Adj Close' 和 'Gold_Adj Close' 欄位存在\n",
    "if 'Adj Close' in df.columns and 'WTI_Adj Close' in df.columns:\n",
    "    # 計算 Adj Close 與 Gold_Adj Close 的皮爾遜相關係數\n",
    "    correlation, _ = pearsonr(df['Adj Close'], df['WTI_Adj Close'])\n",
    "    print(\"皮爾遜相關係數為:\", correlation)\n",
    "else:\n",
    "    print(\"指定的欄位不存在於數據集中。請檢查欄位名稱。\")\n"
   ]
  },
  {
   "cell_type": "code",
   "execution_count": 6,
   "id": "f29661b9",
   "metadata": {},
   "outputs": [
    {
     "name": "stdout",
     "output_type": "stream",
     "text": [
      "皮爾遜相關係數為: -0.6027127032762153\n"
     ]
    }
   ],
   "source": [
    "import pandas as pd\n",
    "from scipy.stats import pearsonr\n",
    "\n",
    "\n",
    "df = pd.read_csv('C:/Users/User/Documents/RL_/Data/Stocks/SPY_Gold.txt')\n",
    "\n",
    "# 檢查並處理 NaN 和 inf 值\n",
    "# 移除含有 NaN 的行\n",
    "df.dropna(inplace=True)\n",
    "\n",
    "df.replace([float('inf'), float('-inf')], pd.NA, inplace=True)\n",
    "df.dropna(inplace=True)\n",
    "\n",
    "# 確保 'Adj Close' 和 'Gold_Adj Close' 欄位存在\n",
    "if 'Adj Close' in df.columns and 'Gold_Adj Close' in df.columns:\n",
    "    # 計算 Adj Close 與 Gold_Adj Close 的皮爾遜相關係數\n",
    "    correlation, _ = pearsonr(df['Adj Close'], df['Gold_Adj Close'])\n",
    "    print(\"皮爾遜相關係數為:\", correlation)\n",
    "else:\n",
    "    print(\"指定的欄位不存在於數據集中。請檢查欄位名稱。\")\n"
   ]
  },
  {
   "cell_type": "code",
   "execution_count": null,
   "id": "c5c7f421",
   "metadata": {},
   "outputs": [],
   "source": []
  }
 ],
 "metadata": {
  "kernelspec": {
   "display_name": "Python 3 (ipykernel)",
   "language": "python",
   "name": "python3"
  },
  "language_info": {
   "codemirror_mode": {
    "name": "ipython",
    "version": 3
   },
   "file_extension": ".py",
   "mimetype": "text/x-python",
   "name": "python",
   "nbconvert_exporter": "python",
   "pygments_lexer": "ipython3",
   "version": "3.9.7"
  }
 },
 "nbformat": 4,
 "nbformat_minor": 5
}
