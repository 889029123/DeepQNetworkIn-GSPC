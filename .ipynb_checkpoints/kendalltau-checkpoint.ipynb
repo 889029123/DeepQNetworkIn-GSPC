{
 "cells": [
  {
   "cell_type": "code",
   "execution_count": 1,
   "id": "d8368897",
   "metadata": {},
   "outputs": [
    {
     "name": "stderr",
     "output_type": "stream",
     "text": [
      "D:\\Anaconda\\lib\\site-packages\\numpy\\_distributor_init.py:30: UserWarning: loaded more than 1 DLL from .libs:\n",
      "D:\\Anaconda\\lib\\site-packages\\numpy\\.libs\\libopenblas.EL2C6PLE4ZYW3ECEVIV3OXXGRN2NRFM2.gfortran-win_amd64.dll\n",
      "D:\\Anaconda\\lib\\site-packages\\numpy\\.libs\\libopenblas.XWYDX2IKJW2NMTWSFYNGFUWKQU3LYTCZ.gfortran-win_amd64.dll\n",
      "  warnings.warn(\"loaded more than 1 DLL from .libs:\"\n",
      "<frozen importlib._bootstrap>:228: RuntimeWarning: scipy._lib.messagestream.MessageStream size changed, may indicate binary incompatibility. Expected 56 from C header, got 64 from PyObject\n"
     ]
    },
    {
     "name": "stdout",
     "output_type": "stream",
     "text": [
      "肯德爾等級相關係數: -0.3917412671479986\n",
      "P 值: 1.680012028114378e-190\n"
     ]
    }
   ],
   "source": [
    "import numpy as np\n",
    "import pandas as pd\n",
    "from scipy.stats import kendalltau\n",
    "\n",
    "\n",
    "df = pd.read_csv('C:/Users/User/Documents/RL_/Data/Stocks/SPY_WTI.txt')\n",
    "\n",
    "# 檢查並處理 NaN 和 inf 值\n",
    "# 移除含有 NaN 的行\n",
    "df.dropna(inplace=True)\n",
    "\n",
    "df.replace([float('inf'), float('-inf')], pd.NA, inplace=True)\n",
    "df.dropna(inplace=True)\n",
    "\n",
    "tau, p_value = kendalltau(df['Adj Close'], df['WTI_Adj Close'])\n",
    "\n",
    "# 輸出相關係數和 P 值\n",
    "print(\"肯德爾等級相關係數:\", tau)\n",
    "print(\"P 值:\", p_value)\n"
   ]
  },
  {
   "cell_type": "code",
   "execution_count": null,
   "id": "e1886024",
   "metadata": {},
   "outputs": [],
   "source": [
    "import numpy as np\n",
    "import pandas as pd\n",
    "from scipy.stats import kendalltau\n",
    "\n",
    "\n",
    "df = pd.read_csv('C:/Users/User/Documents/RL_/Data/Stocks/SPY_Gold.txt')\n",
    "\n",
    "# 檢查並處理 NaN 和 inf 值\n",
    "# 移除含有 NaN 的行\n",
    "df.dropna(inplace=True)\n",
    "\n",
    "df.replace([float('inf'), float('-inf')], pd.NA, inplace=True)\n",
    "df.dropna(inplace=True)\n",
    "\n",
    "tau, p_value = kendalltau(df['Adj Close'], df['Gold_Adj Close'])\n",
    "\n",
    "# 輸出相關係數和 P 值\n",
    "print(\"肯德爾等級相關係數:\", tau)\n",
    "print(\"P 值:\", p_value)\n"
   ]
  }
 ],
 "metadata": {
  "kernelspec": {
   "display_name": "Python 3 (ipykernel)",
   "language": "python",
   "name": "python3"
  },
  "language_info": {
   "codemirror_mode": {
    "name": "ipython",
    "version": 3
   },
   "file_extension": ".py",
   "mimetype": "text/x-python",
   "name": "python",
   "nbconvert_exporter": "python",
   "pygments_lexer": "ipython3",
   "version": "3.9.7"
  }
 },
 "nbformat": 4,
 "nbformat_minor": 5
}
