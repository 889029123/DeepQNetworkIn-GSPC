{
 "cells": [
  {
   "cell_type": "code",
   "execution_count": null,
   "id": "eecf362c",
   "metadata": {},
   "outputs": [],
   "source": [
    "import numpy as np\n",
    "from scipy.stats import spearmanr\n",
    "\n",
    "\n",
    "df = pd.read_csv('C:/Users/User/Documents/RL_/Data/Stocks/SPY_WTI.txt')\n",
    "\n",
    "# 檢查並處理 NaN 和 inf 值\n",
    "# 移除含有 NaN 的行\n",
    "df.dropna(inplace=True)\n",
    "\n",
    "df.replace([float('inf'), float('-inf')], pd.NA, inplace=True)\n",
    "df.dropna(inplace=True)\n",
    "\n",
    "# 確保 'Adj Close' 和 'Gold_Adj Close' 欄位存在\n",
    "if 'Adj Close' in df.columns and 'WTI_Adj Close' in df.columns:\n",
    "    # 計算 Adj Close 與 Gold_Adj Close 的皮爾遜相關係數\n",
    "    correlation, _ = pearsonr(df['Adj Close'], df['WTI_Adj Close'])\n",
    "    print(\"皮爾遜相關係數為:\", correlation)\n",
    "else:\n",
    "    print(\"指定的欄位不存在於數據集中。請檢查欄位名稱。\")\n"
   ]
  }
 ],
 "metadata": {
  "kernelspec": {
   "display_name": "Python 3 (ipykernel)",
   "language": "python",
   "name": "python3"
  },
  "language_info": {
   "codemirror_mode": {
    "name": "ipython",
    "version": 3
   },
   "file_extension": ".py",
   "mimetype": "text/x-python",
   "name": "python",
   "nbconvert_exporter": "python",
   "pygments_lexer": "ipython3",
   "version": "3.9.7"
  }
 },
 "nbformat": 4,
 "nbformat_minor": 5
}
