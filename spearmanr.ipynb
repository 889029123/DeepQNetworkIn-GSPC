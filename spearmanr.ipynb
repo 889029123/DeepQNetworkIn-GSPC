{
 "cells": [
  {
   "cell_type": "code",
   "execution_count": 1,
   "id": "d0e18b6c",
   "metadata": {},
   "outputs": [
    {
     "name": "stderr",
     "output_type": "stream",
     "text": [
      "D:\\Anaconda\\lib\\site-packages\\numpy\\_distributor_init.py:30: UserWarning: loaded more than 1 DLL from .libs:\n",
      "D:\\Anaconda\\lib\\site-packages\\numpy\\.libs\\libopenblas.EL2C6PLE4ZYW3ECEVIV3OXXGRN2NRFM2.gfortran-win_amd64.dll\n",
      "D:\\Anaconda\\lib\\site-packages\\numpy\\.libs\\libopenblas.XWYDX2IKJW2NMTWSFYNGFUWKQU3LYTCZ.gfortran-win_amd64.dll\n",
      "  warnings.warn(\"loaded more than 1 DLL from .libs:\"\n"
     ]
    },
    {
     "name": "stdout",
     "output_type": "stream",
     "text": [
      "斯皮爾曼等級相關係數: 0.24762037774182477\n",
      "P 值: 1.1059770890941917e-67\n"
     ]
    },
    {
     "name": "stderr",
     "output_type": "stream",
     "text": [
      "<frozen importlib._bootstrap>:228: RuntimeWarning: scipy._lib.messagestream.MessageStream size changed, may indicate binary incompatibility. Expected 56 from C header, got 64 from PyObject\n"
     ]
    }
   ],
   "source": [
    "import numpy as np\n",
    "import pandas as pd\n",
    "from scipy.stats import spearmanr\n",
    "\n",
    "\n",
    "df = pd.read_csv('C:/Users/User/Documents/RL_/Data/Stocks/SPY_WTI.txt')\n",
    "\n",
    "# 檢查並處理 NaN 和 inf 值\n",
    "# 移除含有 NaN 的行\n",
    "df.dropna(inplace=True)\n",
    "\n",
    "df.replace([float('inf'), float('-inf')], pd.NA, inplace=True)\n",
    "df.dropna(inplace=True)\n",
    "\n",
    "correlation, p_value = spearmanr(df['Adj Close'], df['WTI_Adj Close'])\n",
    "\n",
    "# 輸出相關係數和 P 值\n",
    "print(\"斯皮爾曼等級相關係數:\", correlation)\n",
    "print(\"P 值:\", p_value)\n",
    "\n"
   ]
  },
  {
   "cell_type": "code",
   "execution_count": 3,
   "id": "6a9e3995",
   "metadata": {},
   "outputs": [
    {
     "name": "stdout",
     "output_type": "stream",
     "text": [
      "斯皮爾曼等級相關係數: 0.5947058000600884\n",
      "P 值: 0.0\n"
     ]
    }
   ],
   "source": [
    "import numpy as np\n",
    "import pandas as pd\n",
    "from scipy.stats import spearmanr\n",
    "\n",
    "\n",
    "df = pd.read_csv('C:/Users/User/Documents/RL_/Data/Stocks/SPY_Gold.txt')\n",
    "\n",
    "# 檢查並處理 NaN 和 inf 值\n",
    "# 移除含有 NaN 的行\n",
    "df.dropna(inplace=True)\n",
    "\n",
    "df.replace([float('inf'), float('-inf')], pd.NA, inplace=True)\n",
    "df.dropna(inplace=True)\n",
    "\n",
    "correlation, p_value = spearmanr(df['Adj Close'], df['Gold_Adj Close'])\n",
    "\n",
    "# 輸出相關係數和 P 值\n",
    "print(\"斯皮爾曼等級相關係數:\", correlation)\n",
    "print(\"P 值:\", p_value)\n",
    "\n"
   ]
  },
  {
   "cell_type": "code",
   "execution_count": null,
   "id": "54751dac",
   "metadata": {},
   "outputs": [],
   "source": []
  }
 ],
 "metadata": {
  "kernelspec": {
   "display_name": "Python 3 (ipykernel)",
   "language": "python",
   "name": "python3"
  },
  "language_info": {
   "codemirror_mode": {
    "name": "ipython",
    "version": 3
   },
   "file_extension": ".py",
   "mimetype": "text/x-python",
   "name": "python",
   "nbconvert_exporter": "python",
   "pygments_lexer": "ipython3",
   "version": "3.9.7"
  }
 },
 "nbformat": 4,
 "nbformat_minor": 5
}
