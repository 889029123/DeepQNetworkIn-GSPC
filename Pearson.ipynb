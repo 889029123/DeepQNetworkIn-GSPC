{
 "cells": [
  {
   "cell_type": "code",
   "execution_count": 1,
   "id": "d99f21e1",
   "metadata": {},
   "outputs": [
    {
     "name": "stderr",
     "output_type": "stream",
     "text": [
      "D:\\Anaconda\\lib\\site-packages\\numpy\\_distributor_init.py:30: UserWarning: loaded more than 1 DLL from .libs:\n",
      "D:\\Anaconda\\lib\\site-packages\\numpy\\.libs\\libopenblas.EL2C6PLE4ZYW3ECEVIV3OXXGRN2NRFM2.gfortran-win_amd64.dll\n",
      "D:\\Anaconda\\lib\\site-packages\\numpy\\.libs\\libopenblas.XWYDX2IKJW2NMTWSFYNGFUWKQU3LYTCZ.gfortran-win_amd64.dll\n",
      "  warnings.warn(\"loaded more than 1 DLL from .libs:\"\n"
     ]
    },
    {
     "name": "stdout",
     "output_type": "stream",
     "text": [
      "皮爾遜相關係數為: 0.05570644137130541\n"
     ]
    },
    {
     "name": "stderr",
     "output_type": "stream",
     "text": [
      "<frozen importlib._bootstrap>:228: RuntimeWarning: scipy._lib.messagestream.MessageStream size changed, may indicate binary incompatibility. Expected 56 from C header, got 64 from PyObject\n"
     ]
    }
   ],
   "source": [
    "import pandas as pd\n",
    "from scipy.stats import pearsonr\n",
    "\n",
    "\n",
    "df = pd.read_csv('C:/Users/User/Documents/RL_/Data/Stocks/SPY_WTI.txt')\n",
    "\n",
    "# 檢查並處理 NaN 和 inf 值\n",
    "# 移除含有 NaN 的行\n",
    "df.dropna(inplace=True)\n",
    "\n",
    "df.replace([float('inf'), float('-inf')], pd.NA, inplace=True)\n",
    "df.dropna(inplace=True)\n",
    "\n",
    "# 確保 'Adj Close' 和 'Gold_Adj Close' 欄位存在\n",
    "if 'Adj Close' in df.columns and 'WTI_Adj Close' in df.columns:\n",
    "    # 計算 Adj Close 與 Gold_Adj Close 的皮爾遜相關係數\n",
    "    correlation, _ = pearsonr(df['Adj Close'], df['WTI_Adj Close'])\n",
    "    print(\"皮爾遜相關係數為:\", correlation)\n",
    "else:\n",
    "    print(\"指定的欄位不存在於數據集中。請檢查欄位名稱。\")\n"
   ]
  },
  {
   "cell_type": "code",
   "execution_count": 2,
   "id": "66bedbd1",
   "metadata": {},
   "outputs": [
    {
     "name": "stdout",
     "output_type": "stream",
     "text": [
      "皮爾遜相關係數為: 0.5324423821319627\n"
     ]
    }
   ],
   "source": [
    "import pandas as pd\n",
    "from scipy.stats import pearsonr\n",
    "\n",
    "\n",
    "df = pd.read_csv('C:/Users/User/Documents/RL_/Data/Stocks/SPY_Gold.txt')\n",
    "\n",
    "# 檢查並處理 NaN 和 inf 值\n",
    "# 移除含有 NaN 的行\n",
    "df.dropna(inplace=True)\n",
    "\n",
    "df.replace([float('inf'), float('-inf')], pd.NA, inplace=True)\n",
    "df.dropna(inplace=True)\n",
    "\n",
    "# 確保 'Adj Close' 和 'Gold_Adj Close' 欄位存在\n",
    "if 'Adj Close' in df.columns and 'Gold_Adj Close' in df.columns:\n",
    "    # 計算 Adj Close 與 Gold_Adj Close 的皮爾遜相關係數\n",
    "    correlation, _ = pearsonr(df['Adj Close'], df['Gold_Adj Close'])\n",
    "    print(\"皮爾遜相關係數為:\", correlation)\n",
    "else:\n",
    "    print(\"指定的欄位不存在於數據集中。請檢查欄位名稱。\")\n"
   ]
  },
  {
   "cell_type": "code",
   "execution_count": null,
   "id": "6830dd0c",
   "metadata": {},
   "outputs": [],
   "source": []
  }
 ],
 "metadata": {
  "kernelspec": {
   "display_name": "Python 3 (ipykernel)",
   "language": "python",
   "name": "python3"
  },
  "language_info": {
   "codemirror_mode": {
    "name": "ipython",
    "version": 3
   },
   "file_extension": ".py",
   "mimetype": "text/x-python",
   "name": "python",
   "nbconvert_exporter": "python",
   "pygments_lexer": "ipython3",
   "version": "3.9.7"
  }
 },
 "nbformat": 4,
 "nbformat_minor": 5
}
